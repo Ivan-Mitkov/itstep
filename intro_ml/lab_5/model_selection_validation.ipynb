{
 "metadata": {
  "name": "",
  "signature": "sha256:f49f42009eb96a16e4b3ace665b5ae4c84962e6ff086546171ffb624ab51b81a"
 },
 "nbformat": 3,
 "nbformat_minor": 0,
 "worksheets": []
}