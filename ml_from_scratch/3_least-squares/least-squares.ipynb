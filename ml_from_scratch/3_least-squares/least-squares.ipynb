{
 "cells": [
  {
   "cell_type": "markdown",
   "metadata": {
    "deletable": true,
    "editable": true
   },
   "source": [
    "# Ordinary Least Squares\n",
    "## Course (very short) recap\n",
    "This lab consists in implementing the **Ordinary Least Squares** (OLS) algorithm, which is **a linear regression with a least-squares penalty**. Given a training set $ D = \\left\\{ \\left(x^{(i)}, y^{(i)}\\right), x^{(i)} \\in \\mathcal{X}, y^{(i)} \\in \\mathcal{Y}, i \\in \\{1, \\dots, n \\}  \\right\\}$, recall (from lectures 1 and 2) OLS aims at minimizing the following cost function $J$:\n",
    "$$J(\\theta) = \\dfrac{1}{2} \\sum_{i = 1}^{n} \\left( h\\left(x^{(i)}\\right) - y^{(i)} \\right)^2$$\n",
    "where \n",
    "$$h(x) = \\sum_{j = 0}^{d} \\theta_j x_j = \\theta^T x.$$\n",
    "\n",
    "For the sake of simplicity, we will be working on a small training set (the one we used in lectures 1 and 2) $D$:\n",
    "\n",
    "| living area (m$^2$) | price (1000's BGN)|\n",
    "|--------------------:|------------------:|\n",
    "|                 50  |         30        |\n",
    "|                 76  |         48        |\n",
    "|                 26  |         12        |\n",
    "|                102  |         90        |"
   ]
  },
  {
   "cell_type": "markdown",
   "metadata": {
    "deletable": true,
    "editable": true
   },
   "source": [
    "## Defining the training set\n",
    "**Exercise 1**: Define variables that will contain the training set.\n",
    "\n",
    "**Note**: Do not forget the intercept!"
   ]
  },
  {
   "cell_type": "code",
   "execution_count": 1,
   "metadata": {
    "collapsed": false,
    "deletable": true,
    "editable": true
   },
   "outputs": [],
   "source": [
    "X = [[50., 1.], [76., 1.], [26., 1.], [102., 1.]]\n",
    "Y = [30., 48., 12., 90.]"
   ]
  },
  {
   "cell_type": "markdown",
   "metadata": {
    "deletable": true,
    "editable": true
   },
   "source": [
    "In this very simple example, the dimensionality is $d = 1$ and the number of samples is $n = 1$."
   ]
  },
  {
   "cell_type": "markdown",
   "metadata": {
    "deletable": true,
    "editable": true
   },
   "source": [
    "## Prediction function\n",
    "**Exercise**: Define a function `predict` that takes as parameter *the feature vector* $x$ and *the model* $\\theta$ and returns the predicted label:\n",
    "$$ \\hat{y} = h(x) = \\theta^T x = \\sum_{j = 0}^d \\theta_j x_j$$"
   ]
  },
  {
   "cell_type": "code",
   "execution_count": 2,
   "metadata": {
    "collapsed": true,
    "deletable": true,
    "editable": true
   },
   "outputs": [],
   "source": [
    "def predict(x, theta):\n",
    "    y_hat = x[0] * theta[0] + x[1] * theta[1]\n",
    "    return y_hat"
   ]
  },
  {
   "cell_type": "markdown",
   "metadata": {
    "deletable": true,
    "editable": true
   },
   "source": [
    "## Defining the cost function\n",
    "### Cost function on a single sample\n",
    "**Exercise**: Define a function `cost_function` that takes as parameter *the predicted label* $y$ and *the actual label* $\\hat{y}$ of a single sample and returns the loss of this pair given by:\n",
    "$$ \\ell \\left( y - \\hat{y} \\right) = \\dfrac{1}{2}\\left( y - \\hat{y} \\right)^2$$"
   ]
  },
  {
   "cell_type": "code",
   "execution_count": 3,
   "metadata": {
    "collapsed": true,
    "deletable": true,
    "editable": true
   },
   "outputs": [],
   "source": [
    "def cost_function(y, y_hat):\n",
    "    loss = (y - y_hat) ** 2 / 2\n",
    "    return loss"
   ]
  },
  {
   "cell_type": "markdown",
   "metadata": {
    "deletable": true,
    "editable": true
   },
   "source": [
    "### Cost function on the whole training set\n",
    "Now we are able to compute the cost function for a single sample, we can easily compute the cost function for the whole training set by summing the cost function values for all the samples in the training set. Recall that the total cost function is given by:\n",
    "$$J(\\theta) = \\dfrac{1}{2} \\sum_{i = 1}^{n} \\left( h\\left(x^{(i)}\\right) - y^{(i)} \\right)^2$$\n",
    "where, for all $i \\in \\{ 1, \\dots, n \\}$, we have:\n",
    "$$h\\left(x^{(i)}\\right) = \\sum_{j = 0}^{d} \\theta_j x^{(i)}_j = \\theta^T x.$$"
   ]
  },
  {
   "cell_type": "code",
   "execution_count": 4,
   "metadata": {
    "collapsed": true,
    "deletable": true,
    "editable": true
   },
   "outputs": [],
   "source": [
    "def cost_function_total(X, Y, theta):\n",
    "    cost = 0 # initialize the cost with 0\n",
    "    n = len(Y)\n",
    "    for i in range(n):\n",
    "        x = X[i] # get the ith feature vector\n",
    "        y = Y[i] # get the ith label\n",
    "        y_hat = predict(x, theta) # predict the ith label\n",
    "        cost += cost_function(y, y_hat) # add the cost for the current sample to the total cost\n",
    "    return cost"
   ]
  },
  {
   "cell_type": "markdown",
   "metadata": {
    "deletable": true,
    "editable": true
   },
   "source": [
    "Let's now test the code written above and check the total cost function we would have when $\\theta = [0, 0]$"
   ]
  },
  {
   "cell_type": "code",
   "execution_count": 5,
   "metadata": {
    "collapsed": false,
    "deletable": true,
    "editable": true
   },
   "outputs": [
    {
     "data": {
      "text/plain": [
       "5724.0"
      ]
     },
     "execution_count": 5,
     "metadata": {},
     "output_type": "execute_result"
    }
   ],
   "source": [
    "theta_0 = [0, 0]\n",
    "cost_function_total(X, Y, theta_0)"
   ]
  },
  {
   "cell_type": "markdown",
   "metadata": {
    "deletable": true,
    "editable": true
   },
   "source": [
    "## Defining the gradient of the cost function\n",
    "### Gradient on a single sample\n",
    "**Exercise**: Define a function `gradient` that implements the gradient of the cost function for a given sample $(x, y)$. Recall from the lectures 1 and 2 that the gradient is given by:\n",
    "$$\\nabla J(\\theta) = \\left[ \\dfrac{\\partial}{\\partial \\theta_1} J(\\theta), \\dots, \\dfrac{\\partial}{\\partial \\theta_d} J(\\theta) \\right]^T$$\n",
    "where, for all $j \\in \\{0, \\dots, d \\}$:\n",
    "$$ \\dfrac{\\partial}{\\partial \\theta_j} J(\\theta) = \\left( h\\left(x\\right) - y \\right) x_j $$"
   ]
  },
  {
   "cell_type": "code",
   "execution_count": 6,
   "metadata": {
    "collapsed": true,
    "deletable": true,
    "editable": true
   },
   "outputs": [],
   "source": [
    "def gradient(x, y, theta):\n",
    "    grad = [0, 0]\n",
    "    grad[0] = (predict(x, theta) - y) * x[0] # first value of the gradient \n",
    "    grad[1] = (predict(x, theta) - y) * x[1] # second value of the gradient\n",
    "    return grad"
   ]
  },
  {
   "cell_type": "markdown",
   "metadata": {
    "deletable": true,
    "editable": true
   },
   "source": [
    "In our application, the dimensionality of our data (with the intercept) is 2, so the gradient has 2 values (corresponding to $\\theta_0$ and $\\theta_1$)."
   ]
  },
  {
   "cell_type": "code",
   "execution_count": 7,
   "metadata": {
    "collapsed": false,
    "deletable": true,
    "editable": true
   },
   "outputs": [
    {
     "data": {
      "text/plain": [
       "[-1500.0, -30.0]"
      ]
     },
     "execution_count": 7,
     "metadata": {},
     "output_type": "execute_result"
    }
   ],
   "source": [
    "gradient(X[0], Y[0], theta_0)"
   ]
  },
  {
   "cell_type": "markdown",
   "metadata": {
    "deletable": true,
    "editable": true
   },
   "source": [
    "### Gradient on the whole training set\n",
    "Now we are able to compute the gradient of the cost function on a single sample, we can easily compute `gradient_total`, the gradient of the cost function on the whole training set by summing the gradients for all the samples in the training set."
   ]
  },
  {
   "cell_type": "code",
   "execution_count": 8,
   "metadata": {
    "collapsed": true,
    "deletable": true,
    "editable": true
   },
   "outputs": [],
   "source": [
    "def gradient_total(X, Y, theta):\n",
    "    grad_total = [0, 0] # initialize the gradient with zeros\n",
    "    n = len(Y)\n",
    "    for i in range(n):\n",
    "        x = X[i] # get the ith feature vector\n",
    "        y = Y[i] # get the ith label\n",
    "        grad = gradient(x, y, theta) # predict the ith label\n",
    "        grad_total[0] += grad[0] # add the gradient corresponding to theta[0]\n",
    "        grad_total[1] += grad[1] # add the gradient corresponding to theta[1]\n",
    "    return grad_total"
   ]
  },
  {
   "cell_type": "markdown",
   "metadata": {
    "deletable": true,
    "editable": true
   },
   "source": [
    "Let's now test the code written above and check the total gradient we would have when $\\theta = [0, 0]$"
   ]
  },
  {
   "cell_type": "code",
   "execution_count": 9,
   "metadata": {
    "collapsed": false,
    "deletable": true,
    "editable": true,
    "scrolled": true
   },
   "outputs": [
    {
     "data": {
      "text/plain": [
       "[-14640.0, -180.0]"
      ]
     },
     "execution_count": 9,
     "metadata": {},
     "output_type": "execute_result"
    }
   ],
   "source": [
    "gradient_total(X, Y, theta_0)"
   ]
  },
  {
   "cell_type": "markdown",
   "metadata": {
    "deletable": true,
    "editable": true
   },
   "source": [
    "**Question**: What is the sign of the gradient values? What would it mean if we had such a gradient when applying a gradient descent?\n",
    "\n",
    "**Hint**: Recall the gradient descent update.\n",
    "\n",
    "## Applying a gradient descent\n",
    "### Gradient descent step implementation\n",
    "We now have all the building blocs needed for the gradient descent algorithm, that is:\n",
    "- The loss function\n",
    "- The gradient\n",
    "Indeed, the iterative update scheme of this algorithm is given by the following formula:\n",
    "$$\\theta_j := \\theta_j - \\alpha \\dfrac{\\partial}{\\partial \\theta_j} J(\\theta)$$\n",
    "for all $j \\in \\{0, \\dots, d \\}$. Recall that $\\alpha$ is a parameter called the *learning rate* (or *step size*).\n",
    "\n",
    "**Exercise**: Define a function called `gradient_descent_step` that performs an update on theta by applying the formula above."
   ]
  },
  {
   "cell_type": "code",
   "execution_count": 10,
   "metadata": {
    "collapsed": true,
    "deletable": true,
    "editable": true
   },
   "outputs": [],
   "source": [
    "def gradient_descent_step(X, Y, theta, alpha):\n",
    "    theta_updated = [0, 0]\n",
    "    grad = gradient_total(X, Y, theta)\n",
    "    theta_updated[0] = theta[0] - alpha * grad[0]\n",
    "    theta_updated[1] = theta[1] - alpha * grad[1]\n",
    "    return theta_updated"
   ]
  },
  {
   "cell_type": "markdown",
   "metadata": {
    "deletable": true,
    "editable": true
   },
   "source": [
    "Try to run a few iterations manually. Play with the value of $\\alpha$ to see how it impacts the algorithm."
   ]
  },
  {
   "cell_type": "code",
   "execution_count": 11,
   "metadata": {
    "collapsed": false,
    "deletable": true,
    "editable": true
   },
   "outputs": [
    {
     "data": {
      "text/plain": [
       "[0.0938243999999997, -0.0011927999999999973]"
      ]
     },
     "execution_count": 11,
     "metadata": {},
     "output_type": "execute_result"
    }
   ],
   "source": [
    "alpha = 0.0001\n",
    "theta_1 = gradient_descent_step(X, Y, theta_0, alpha)\n",
    "theta_2 = gradient_descent_step(X, Y, theta_1, alpha)\n",
    "theta_2"
   ]
  },
  {
   "cell_type": "markdown",
   "metadata": {
    "deletable": true,
    "editable": true
   },
   "source": [
    "### Iterating gradient descent steps\n",
    "The `gradient_descent_step` implements a single gradient step of the gradient descent algorithm. Implement a function called `gradient_descent` that starts from a given $\\theta$ (exaple $\\theta = [0, 0]$) and applies 100 gradient descent iterations. Display the total cost function $J(\\theta)$ at each iteration."
   ]
  },
  {
   "cell_type": "code",
   "execution_count": 12,
   "metadata": {
    "collapsed": false,
    "deletable": true,
    "editable": true
   },
   "outputs": [],
   "source": [
    "def gradient_descent(X, Y, alpha):\n",
    "    theta = [0, 0] # initializing theta with zeros (it can be initialized in another manner)\n",
    "    n_iteration_max = 100\n",
    "    for i_iteration in range(n_iteration_max):\n",
    "        loss = cost_function_total(X, Y, theta)\n",
    "        print(\"Iteration {:>2}. Current loss = {}\".format(i_iteration, loss))\n",
    "        theta = gradient_descent_step(X, Y, theta, alpha)\n",
    "    loss = cost_function_total(X, Y, theta)\n",
    "    print(\"Optimization complete. Final loss = {}\".format(loss))\n",
    "    return theta"
   ]
  },
  {
   "cell_type": "markdown",
   "metadata": {
    "deletable": true,
    "editable": true
   },
   "source": [
    "Play with the code you've just run. Try different values of $\\alpha$ and see the impact it has."
   ]
  },
  {
   "cell_type": "code",
   "execution_count": 13,
   "metadata": {
    "collapsed": false,
    "deletable": true,
    "editable": true
   },
   "outputs": [
    {
     "name": "stdout",
     "output_type": "stream",
     "text": [
      "Iteration  0. Current loss = 5724.0\n",
      "Iteration  1. Current loss = 5037.312744000001\n",
      "Iteration  2. Current loss = 4435.792673300704\n",
      "Iteration  3. Current loss = 3908.876603267039\n",
      "Iteration  4. Current loss = 3447.311488513006\n",
      "Iteration  5. Current loss = 3042.9919278860875\n",
      "Iteration  6. Current loss = 2688.8178235154955\n",
      "Iteration  7. Current loss = 2378.569694239707\n",
      "Iteration  8. Current loss = 2106.799453761523\n",
      "Iteration  9. Current loss = 1868.7347354588892\n",
      "Iteration 10. Current loss = 1660.1950836758394\n",
      "Iteration 11. Current loss = 1477.5185397081189\n",
      "Iteration 12. Current loss = 1317.497333241855\n",
      "Iteration 13. Current loss = 1177.3215499067294\n",
      "Iteration 14. Current loss = 1054.5297856756622\n",
      "Iteration 15. Current loss = 946.9659215407085\n",
      "Iteration 16. Current loss = 852.7412593745793\n",
      "Iteration 17. Current loss = 770.2013540363196\n",
      "Iteration 18. Current loss = 697.8969592515267\n",
      "Iteration 19. Current loss = 634.5585770405551\n",
      "Iteration 20. Current loss = 579.0741637509263\n",
      "Iteration 21. Current loss = 530.469601184068\n",
      "Iteration 22. Current loss = 487.89158986501747\n",
      "Iteration 23. Current loss = 450.5926640395761\n",
      "Iteration 24. Current loss = 417.9180652435737\n",
      "Iteration 25. Current loss = 389.2942439277548\n",
      "Iteration 26. Current loss = 364.21878721247606\n",
      "Iteration 27. Current loss = 342.2515958910323\n",
      "Iteration 28. Current loss = 323.0071557387844\n",
      "Iteration 29. Current loss = 306.1477674026388\n",
      "Iteration 30. Current loss = 291.3776159792998\n",
      "Iteration 31. Current loss = 278.43757613668663\n",
      "Iteration 32. Current loss = 267.1006615499776\n",
      "Iteration 33. Current loss = 257.1680387386946\n",
      "Iteration 34. Current loss = 248.46553530284635\n",
      "Iteration 35. Current loss = 240.84058123839284\n",
      "Iteration 36. Current loss = 234.159529617723\n",
      "Iteration 37. Current loss = 228.30530958295333\n",
      "Iteration 38. Current loss = 223.17537043567705\n",
      "Iteration 39. Current loss = 218.67988071882633\n",
      "Iteration 40. Current loss = 214.74015066426756\n",
      "Iteration 41. Current loss = 211.28725030235205\n",
      "Iteration 42. Current loss = 208.26079896569684\n",
      "Iteration 43. Current loss = 205.6079049293753\n",
      "Iteration 44. Current loss = 203.28223656627523\n",
      "Iteration 45. Current loss = 201.24320870595525\n",
      "Iteration 46. Current loss = 199.45526990844746\n",
      "Iteration 47. Current loss = 197.8872781366419\n",
      "Iteration 48. Current loss = 196.51195386328519\n",
      "Iteration 49. Current loss = 195.30540100847043\n",
      "Iteration 50. Current loss = 194.24668729467783\n",
      "Iteration 51. Current loss = 193.31747664988472\n",
      "Iteration 52. Current loss = 192.5017072032791\n",
      "Iteration 53. Current loss = 191.7853092187849\n",
      "Iteration 54. Current loss = 191.15595801295416\n",
      "Iteration 55. Current loss = 190.60285751816338\n",
      "Iteration 56. Current loss = 190.11655069020554\n",
      "Iteration 57. Current loss = 189.68875343080742\n",
      "Iteration 58. Current loss = 189.3122091085363\n",
      "Iteration 59. Current loss = 188.98056112330914\n",
      "Iteration 60. Current loss = 188.68824127657257\n",
      "Iteration 61. Current loss = 188.4303719867952\n",
      "Iteration 62. Current loss = 188.20268063306162\n",
      "Iteration 63. Current loss = 188.0014245225231\n",
      "Iteration 64. Current loss = 187.82332516404898\n",
      "Iteration 65. Current loss = 187.66551069383956\n",
      "Iteration 66. Current loss = 187.52546544192012\n",
      "Iteration 67. Current loss = 187.4009857538448\n",
      "Iteration 68. Current loss = 187.29014129177935\n",
      "Iteration 69. Current loss = 187.19124113536765\n",
      "Iteration 70. Current loss = 187.1028040870657\n",
      "Iteration 71. Current loss = 187.0235326604702\n",
      "Iteration 72. Current loss = 186.9522902948442\n",
      "Iteration 73. Current loss = 186.88808139569693\n",
      "Iteration 74. Current loss = 186.83003385090893\n",
      "Iteration 75. Current loss = 186.77738371535878\n",
      "Iteration 76. Current loss = 186.7294617950999\n",
      "Iteration 77. Current loss = 186.6856818954842\n",
      "Iteration 78. Current loss = 186.64553052685784\n",
      "Iteration 79. Current loss = 186.60855788704697\n",
      "Iteration 80. Current loss = 186.57436996227526\n",
      "Iteration 81. Current loss = 186.54262160779513\n",
      "Iteration 82. Current loss = 186.51301048672116\n",
      "Iteration 83. Current loss = 186.4852717606192\n",
      "Iteration 84. Current loss = 186.45917343862135\n",
      "Iteration 85. Current loss = 186.43451230337817\n",
      "Iteration 86. Current loss = 186.4111103423159\n",
      "Iteration 87. Current loss = 186.38881162151648\n",
      "Iteration 88. Current loss = 186.3674795473284\n",
      "Iteration 89. Current loss = 186.34699446761687\n",
      "Iteration 90. Current loss = 186.32725157052732\n",
      "Iteration 91. Current loss = 186.3081590438632\n",
      "Iteration 92. Current loss = 186.28963646275298\n",
      "Iteration 93. Current loss = 186.27161337729555\n",
      "Iteration 94. Current loss = 186.25402807537478\n",
      "Iteration 95. Current loss = 186.2368264989228\n",
      "Iteration 96. Current loss = 186.2199612945987\n",
      "Iteration 97. Current loss = 186.2033909822071\n",
      "Iteration 98. Current loss = 186.1870792262614\n",
      "Iteration 99. Current loss = 186.17099419788883\n",
      "Optimization complete. Final loss = 186.15510801588317\n"
     ]
    }
   ],
   "source": [
    "theta_trained = gradient_descent(X, Y, alpha)"
   ]
  },
  {
   "cell_type": "markdown",
   "metadata": {
    "deletable": true,
    "editable": true
   },
   "source": [
    "**Question**: Looks at the evolution of the cost function over time. What comment can you make?\n",
    "\n",
    "**Question**: What does the value `theta_trained` represent?\n",
    "\n",
    "## Homework: Batch gradient descent vs. stochastic gradient descent\n",
    "As we have seen during the lecture 1, the gradient descent methods are often split into 2 different subfamilies:\n",
    "- **Batch methods** update $\\theta$ after having computed the gradient on the whole training set\n",
    "- **Stochastic methods** update $\\theta$ after having computed the gradient on a single sample\n",
    "The gradient descent we have implemented above (`gradient_descent_step` and `gradient_descent`) corresponds to the batch version because it sums the gradient of all the samples in the training set. \n",
    "\n",
    "During the next session, we will work on the following:\n",
    "- Stochastic gradient descent implementation and see how it compares to the batch version of gradient descent\n",
    "- Visualizing the loss function, its evolution over iterations as well as the steps that take the gradient descent algorithm.\n",
    "\n",
    "**Exercise**: Try to implement the stochastic version of the gradient descent algorithm."
   ]
  }
 ],
 "metadata": {
  "kernelspec": {
   "display_name": "Python 3",
   "language": "python",
   "name": "python3"
  },
  "language_info": {
   "codemirror_mode": {
    "name": "ipython",
    "version": 3
   },
   "file_extension": ".py",
   "mimetype": "text/x-python",
   "name": "python",
   "nbconvert_exporter": "python",
   "pygments_lexer": "ipython3",
   "version": "3.5.2"
  }
 },
 "nbformat": 4,
 "nbformat_minor": 0
}
