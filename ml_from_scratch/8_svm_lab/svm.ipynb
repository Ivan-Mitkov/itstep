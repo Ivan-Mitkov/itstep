{
 "cells": [
  {
   "cell_type": "markdown",
   "metadata": {
    "deletable": true,
    "editable": true
   },
   "source": [
    "# Support Vector Machines\n",
    "## Course recap\n",
    "This lab consists in implementing the **Support Vector Machines** (SVM) algorithm. \n",
    "\n",
    "Given a training set $ D = \\left\\{ \\left(x^{(i)}, y^{(i)}\\right), x^{(i)} \\in \\mathcal{X}, y^{(i)} \\in \\mathcal{Y}, i \\in \\{1, \\dots, n \\}  \\right\\}$, where $\\mathcal{Y} = \\{ 1, \\dots, k\\}$ . Recall (from lecture 7), SVM aims at minimizing the following cost function $J$:\n",
    "$$\n",
    "\\begin{split}\n",
    "J(\\theta_1, \\theta_2, \\dots, \\theta_k) \n",
    "\t&= \\sum_{i = 1}^n L_i \\\\\n",
    "\t&= \\sum_{i = 1}^n \\sum_{j \\neq y_i} \\max(0, \\theta_j^Tx^{(i)} - \\theta_{y^{(i)}}^T x^{(i)} + \\Delta)\n",
    "\\end{split}\n",
    "$$"
   ]
  },
  {
   "cell_type": "markdown",
   "metadata": {
    "deletable": true,
    "editable": true
   },
   "source": [
    "## Defining the training set\n",
    "**Exercise 1**: Define variables `X` and `Y` that will contain the features $\\mathcal{X}$ and labels $\\mathcal{Y}$ of the training set.\n",
    "\n",
    "**Hint**: Do not forget the intercept!"
   ]
  },
  {
   "cell_type": "code",
   "execution_count": 1,
   "metadata": {
    "collapsed": false,
    "deletable": true,
    "editable": true
   },
   "outputs": [],
   "source": [
    "X = [[1., 50.], [1., 76.], [1., 26.], [1., 102.]]\n",
    "Y = [30., 48., 12., 90.]"
   ]
  },
  {
   "cell_type": "markdown",
   "metadata": {
    "deletable": true,
    "editable": true
   },
   "source": [
    "In this simple example, the dimensionality is $d = 1$ (which means 2 features: don't forget the intercept!) and the number of samples is $n = 4$."
   ]
  },
  {
   "cell_type": "markdown",
   "metadata": {
    "deletable": true,
    "editable": true
   },
   "source": [
    "## Prediction function\n",
    "**Exercise**: Define a function `predict` that takes as parameter *the feature vector* $x$ as well as *a model* $\\theta$ and outputs the score:\n",
    "$$ h(x) = \\theta^T x = \\sum_{j = 0}^d \\theta_j x_j$$"
   ]
  },
  {
   "cell_type": "code",
   "execution_count": 2,
   "metadata": {
    "collapsed": true,
    "deletable": true,
    "editable": true
   },
   "outputs": [],
   "source": [
    "def predict(x, theta):\n",
    "    d = len(x)\n",
    "    thetaTx = 0\n",
    "    for idx in range(d):\n",
    "        thetaTx += x[idx] * theta[idx]\n",
    "    return thetaTx"
   ]
  },
  {
   "cell_type": "markdown",
   "metadata": {
    "deletable": true,
    "editable": true
   },
   "source": [
    "## Defining the cost function\n",
    "### Cost function on a single sample\n",
    "**Exercise**: Define a function `cost_function` that takes as parameter *the predicted label* $y$ and *the actual label* $\\hat{y}$ of a single sample and returns the value of the cost function for this pair. Recall from lectures 1 and 2 that it is given by:\n",
    "$$ L_i = \\sum_{j \\neq y_i} \\max(0, \\theta_j^Tx^{(i)} - \\theta_{y^{(i)}}^T x^{(i)} + \\Delta) $$"
   ]
  },
  {
   "cell_type": "code",
   "execution_count": 3,
   "metadata": {
    "collapsed": false,
    "deletable": true,
    "editable": true
   },
   "outputs": [],
   "source": [
    "def cost_function(x, y, thetas, delta):\n",
    "    thetayTx = predict(x, thetas[y])\n",
    "    loss = 0\n",
    "    d = len(x)\n",
    "    for j in range(d):\n",
    "        if j is not y:\n",
    "            thetajTx = predict(x, thetas[idx])\n",
    "            loss += max(0, thetajTx - thetayTx + delta)\n",
    "    return loss"
   ]
  },
  {
   "cell_type": "code",
   "execution_count": 4,
   "metadata": {
    "collapsed": true,
    "deletable": true,
    "editable": true
   },
   "outputs": [],
   "source": [
    "def cost_function_total(X, Y, thetas, delta):\n",
    "    cost = 0 # initialize the cost with 0\n",
    "    n = len(Y)\n",
    "    for i in range(n): # iterate over the training set\n",
    "        x = X[i] # get the ith feature vector\n",
    "        y = Y[i] # get the ith label\n",
    "        cost += cost_function(x, y, thetas, delta) # add the cost of the current sample to the total cost\n",
    "    return cost"
   ]
  }
 ],
 "metadata": {
  "kernelspec": {
   "display_name": "Python 3",
   "language": "python",
   "name": "python3"
  },
  "language_info": {
   "codemirror_mode": {
    "name": "ipython",
    "version": 3
   },
   "file_extension": ".py",
   "mimetype": "text/x-python",
   "name": "python",
   "nbconvert_exporter": "python",
   "pygments_lexer": "ipython3",
   "version": "3.5.2"
  }
 },
 "nbformat": 4,
 "nbformat_minor": 0
}
