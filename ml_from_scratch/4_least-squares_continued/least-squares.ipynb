{
 "cells": [
  {
   "cell_type": "markdown",
   "metadata": {
    "deletable": true,
    "editable": true
   },
   "source": [
    "# Ordinary Least Squares -- Part II\n",
    "## Course recap\n",
    "This lab consists in implementing the **Ordinary Least Squares** (OLS) algorithm, which is **a linear regression with a least-squares penalty**. Given a training set $ D = \\left\\{ \\left(x^{(i)}, y^{(i)}\\right), x^{(i)} \\in \\mathcal{X}, y^{(i)} \\in \\mathcal{Y}, i \\in \\{1, \\dots, n \\}  \\right\\}$, recall (from lectures 1 and 2) OLS aims at minimizing the following cost function $J$:\n",
    "$$J(\\theta) = \\dfrac{1}{2} \\sum_{i = 1}^{n} \\left( h\\left(x^{(i)}\\right) - y^{(i)} \\right)^2$$\n",
    "where \n",
    "$$h(x) = \\sum_{j = 0}^{d} \\theta_j x_j = \\theta^T x.$$\n",
    "\n",
    "For the sake of simplicity, we will be working on a small training set (the one we used in lectures 1 and 2):\n",
    "\n",
    "| living area (m$^2$) | price (1000's BGN)|\n",
    "|--------------------:|------------------:|\n",
    "|                 50  |         30        |\n",
    "|                 76  |         48        |\n",
    "|                 26  |         12        |\n",
    "|                102  |         90        |"
   ]
  },
  {
   "cell_type": "markdown",
   "metadata": {
    "deletable": true,
    "editable": true
   },
   "source": [
    "## Defining the training set\n",
    "**Exercise 1**: Define variables `X` and `Y` that will contain the features $\\mathcal{X}$ and labels $\\mathcal{Y}$ of the training set.\n",
    "\n",
    "**Hint**: Do not forget the intercept!"
   ]
  },
  {
   "cell_type": "code",
   "execution_count": 1,
   "metadata": {
    "collapsed": false,
    "deletable": true,
    "editable": true
   },
   "outputs": [],
   "source": [
    "X = [[1., 50.], [1., 76.], [1., 26.], [1., 102.]]\n",
    "Y = [30., 48., 12., 90.]\n",
    "\n",
    "# Y[3] = 300 # Outlier. Uncomment this line if you want to introduce an outlier."
   ]
  },
  {
   "cell_type": "markdown",
   "metadata": {
    "deletable": true,
    "editable": true
   },
   "source": [
    "In this simple example, the dimensionality is $d = 1$ (which means 2 features: don't forget the intercept!) and the number of samples is $n = 4$.\n",
    "\n",
    "**Remark**: `1.` is written instead of `1` in order to avoid *integers operations*. For example, in some languages (including Python 2), the result of `1/2` is `0` and not `0.5`:"
   ]
  },
  {
   "cell_type": "code",
   "execution_count": 2,
   "metadata": {
    "collapsed": false,
    "deletable": true,
    "editable": true
   },
   "outputs": [
    {
     "data": {
      "text/plain": [
       "0"
      ]
     },
     "execution_count": 2,
     "metadata": {},
     "output_type": "execute_result"
    }
   ],
   "source": [
    "1/2"
   ]
  },
  {
   "cell_type": "markdown",
   "metadata": {
    "deletable": true,
    "editable": true
   },
   "source": [
    "Instead, writing `1./2` forces a *float operation* and gives `0.5` as a result, which is what we want:"
   ]
  },
  {
   "cell_type": "code",
   "execution_count": 3,
   "metadata": {
    "collapsed": false,
    "deletable": true,
    "editable": true
   },
   "outputs": [
    {
     "data": {
      "text/plain": [
       "0.5"
      ]
     },
     "execution_count": 3,
     "metadata": {},
     "output_type": "execute_result"
    }
   ],
   "source": [
    "1./2"
   ]
  },
  {
   "cell_type": "markdown",
   "metadata": {
    "deletable": true,
    "editable": true
   },
   "source": [
    "## Prediction function\n",
    "**Exercise**: Define a function `predict` that takes as parameter *the feature vector* $x$ and *the model* $\\theta$ and returns the predicted label:\n",
    "$$ \\hat{y} = h(x) = \\theta^T x = \\sum_{j = 0}^d \\theta_j x_j$$"
   ]
  },
  {
   "cell_type": "code",
   "execution_count": 4,
   "metadata": {
    "collapsed": true,
    "deletable": true,
    "editable": true
   },
   "outputs": [],
   "source": [
    "def predict(x, theta):\n",
    "    y_hat = x[0] * theta[0] + x[1] * theta[1] # compute the dot product between 'theta' and 'x'\n",
    "    return y_hat"
   ]
  },
  {
   "cell_type": "markdown",
   "metadata": {
    "deletable": true,
    "editable": true
   },
   "source": [
    "## Defining the cost function\n",
    "### Cost function on a single sample\n",
    "**Exercise**: Define a function `cost_function` that takes as parameter *the predicted label* $y$ and *the actual label* $\\hat{y}$ of a single sample and returns the value of the cost function for this pair. Recall from lectures 1 and 2 that it is given by:\n",
    "$$ \\ell \\left( y, \\hat{y} \\right) = \\dfrac{1}{2}\\left( y - \\hat{y} \\right)^2$$"
   ]
  },
  {
   "cell_type": "code",
   "execution_count": 5,
   "metadata": {
    "collapsed": true,
    "deletable": true,
    "editable": true
   },
   "outputs": [],
   "source": [
    "def cost_function(y, y_hat):\n",
    "    loss = (y - y_hat) ** 2 / 2\n",
    "    return loss"
   ]
  },
  {
   "cell_type": "markdown",
   "metadata": {
    "deletable": true,
    "editable": true
   },
   "source": [
    "### Cost function on the whole training set\n",
    "We are now able to compute the cost function for a single sample. We can easily compute the cost function for the whole training set by summing the cost function values for all the samples in the training set. Recall that the total cost function is given by:\n",
    "$$J(\\theta) = \\dfrac{1}{2} \\sum_{i = 1}^{n} \\left( h\\left(x^{(i)}\\right) - y^{(i)} \\right)^2$$\n",
    "where, for all $i \\in \\{ 1, \\dots, n \\}$\n",
    "$$h\\left(x^{(i)}\\right) = \\sum_{j = 0}^{d} \\theta_j x^{(i)}_j = \\theta^T x^{(i)}$$\n",
    "is the prediction of $x$ given the model $\\theta$."
   ]
  },
  {
   "cell_type": "code",
   "execution_count": 6,
   "metadata": {
    "collapsed": true,
    "deletable": true,
    "editable": true
   },
   "outputs": [],
   "source": [
    "def cost_function_total(X, Y, theta):\n",
    "    cost = 0 # initialize the cost with 0\n",
    "    n = len(Y)\n",
    "    for i in range(n): # iterate over the training set (n = 4 in our case)\n",
    "        x = X[i] # get the ith feature vector\n",
    "        y = Y[i] # get the ith label\n",
    "        y_hat = predict(x, theta) # predict the ith label\n",
    "        cost += cost_function(y, y_hat) # add the cost of the current sample to the total cost\n",
    "    return cost"
   ]
  },
  {
   "cell_type": "markdown",
   "metadata": {
    "deletable": true,
    "editable": true
   },
   "source": [
    "Let's now test the code written above and check the total cost function we would have when $\\theta = [0, 0]$."
   ]
  },
  {
   "cell_type": "code",
   "execution_count": 7,
   "metadata": {
    "collapsed": false,
    "deletable": true,
    "editable": true
   },
   "outputs": [
    {
     "data": {
      "text/plain": [
       "5724.0"
      ]
     },
     "execution_count": 7,
     "metadata": {},
     "output_type": "execute_result"
    }
   ],
   "source": [
    "theta_0 = [0, 0]\n",
    "cost_function_total(X, Y, theta_0)"
   ]
  },
  {
   "cell_type": "markdown",
   "metadata": {
    "deletable": true,
    "editable": true
   },
   "source": [
    "Note that this error is big, which is expectable because having $\\theta = [0, 0]$ means always predicting $\\hat{y} = 0$."
   ]
  },
  {
   "cell_type": "markdown",
   "metadata": {
    "deletable": true,
    "editable": true
   },
   "source": [
    "## Defining the gradient of the cost function\n",
    "### Gradient on a single sample\n",
    "**Exercise**: Define a function `gradient` that implements the gradient of the cost function for a given sample $(x, y)$. Recall from the lectures 1 and 2 that the gradient is given by:\n",
    "$$\\nabla J(\\theta) = \\left[ \\dfrac{\\partial}{\\partial \\theta_1} J(\\theta), \\dots, \\dfrac{\\partial}{\\partial \\theta_d} J(\\theta) \\right]^T$$\n",
    "where, for all $j \\in \\{0, \\dots, d \\}$:\n",
    "$$ \\dfrac{\\partial}{\\partial \\theta_j} J(\\theta) = \\left( h\\left(x\\right) - y \\right) x_j. $$\n",
    "**Hint**: Recall that $d = 1$, hence the gradient is of size $2$ (one value for $j = 0$, and another one for $j = 1$). Its two values are given by:\n",
    "$$ \\dfrac{\\partial}{\\partial \\theta_0} J(\\theta) = \\left( h\\left(x\\right) - y \\right) x_0 \\quad \\text{and} \\quad \n",
    "\\dfrac{\\partial}{\\partial \\theta_1} J(\\theta) = \\left( h\\left(x\\right) - y \\right) x_1. $$"
   ]
  },
  {
   "cell_type": "code",
   "execution_count": 8,
   "metadata": {
    "collapsed": true,
    "deletable": true,
    "editable": true
   },
   "outputs": [],
   "source": [
    "def gradient(x, y, theta):\n",
    "    grad = [0, 0]\n",
    "    grad[0] = (predict(x, theta) - y) * x[0] # first value of the gradient \n",
    "    grad[1] = (predict(x, theta) - y) * x[1] # second value of the gradient\n",
    "    return grad"
   ]
  },
  {
   "cell_type": "markdown",
   "metadata": {
    "deletable": true,
    "editable": true
   },
   "source": [
    "Let's try the `gradient` function on a simple example ($\\theta = [0, 0]$ on the first sample of the training set, *i.e.* $\\left(x^{(0)}, y^{(0)}\\right)$)."
   ]
  },
  {
   "cell_type": "code",
   "execution_count": 9,
   "metadata": {
    "collapsed": false,
    "deletable": true,
    "editable": true
   },
   "outputs": [
    {
     "data": {
      "text/plain": [
       "[-30.0, -1500.0]"
      ]
     },
     "execution_count": 9,
     "metadata": {},
     "output_type": "execute_result"
    }
   ],
   "source": [
    "gradient(X[0], Y[0], theta_0)"
   ]
  },
  {
   "cell_type": "markdown",
   "metadata": {
    "deletable": true,
    "editable": true
   },
   "source": [
    "### Gradient on the whole training set\n",
    "Now we are able to compute the gradient of the cost function on a single sample, we can easily compute `gradient_total`, the gradient of the cost function on the whole training set by summing the gradients for all the samples in the training set."
   ]
  },
  {
   "cell_type": "code",
   "execution_count": 10,
   "metadata": {
    "collapsed": true,
    "deletable": true,
    "editable": true
   },
   "outputs": [],
   "source": [
    "def gradient_total(X, Y, theta):\n",
    "    grad_total = [0, 0] # initialize the gradient with zeros\n",
    "    n = len(Y)\n",
    "    for i in range(n): # iterate over the training set\n",
    "        x = X[i] # get the ith feature vector\n",
    "        y = Y[i] # get the ith label\n",
    "        grad = gradient(x, y, theta) # predict the ith label given 'theta'\n",
    "        grad_total[0] += grad[0] # add the gradient corresponding to theta[0]\n",
    "        grad_total[1] += grad[1] # add the gradient corresponding to theta[1]\n",
    "    return grad_total"
   ]
  },
  {
   "cell_type": "markdown",
   "metadata": {
    "deletable": true,
    "editable": true
   },
   "source": [
    "Let's now test the code written above and check the total gradient we would have when $\\theta = [0, 0]$"
   ]
  },
  {
   "cell_type": "code",
   "execution_count": 11,
   "metadata": {
    "collapsed": false,
    "deletable": true,
    "editable": true,
    "scrolled": true
   },
   "outputs": [
    {
     "data": {
      "text/plain": [
       "[-180.0, -14640.0]"
      ]
     },
     "execution_count": 11,
     "metadata": {},
     "output_type": "execute_result"
    }
   ],
   "source": [
    "gradient_total(X, Y, theta_0)"
   ]
  },
  {
   "cell_type": "markdown",
   "metadata": {
    "deletable": true,
    "editable": true
   },
   "source": [
    "**Question**: What is the sign of the gradient values? What would it mean if we had such a gradient when applying a gradient descent?\n",
    "\n",
    "**Hint**: Recall the gradient descent update:\n",
    "$$\\theta_j := \\theta_j - \\alpha \\dfrac{\\partial}{\\partial \\theta_j} J(\\theta) \\quad \\text{for all } j \\in \\{0, \\dots, d \\}$$\n",
    "\n",
    "**Answer**: Both values are negative, which means this gradient step would increase the value of $\\theta$ due to fact we **substract** the gradient. This makes sense, because:\n",
    "- we start with $\\theta = [0, 0]$,\n",
    "- we expect $\\theta_0 > 0$ and $\\theta_1 > 0$ because otherwise we could predict a negative price.\n",
    "\n",
    "## Applying a gradient descent\n",
    "### Gradient descent step implementation\n",
    "We now have all the building blocs needed for the gradient descent algorithm, that is:\n",
    "- The loss function\n",
    "- The gradient\n",
    "Indeed, the iterative update scheme of this algorithm is given by the following formula:\n",
    "$$\\theta_j := \\theta_j - \\alpha \\dfrac{\\partial}{\\partial \\theta_j} J(\\theta)$$\n",
    "for all $j \\in \\{0, \\dots, d \\}$. Recall that $\\alpha$ is a parameter called the *learning rate* (or *step size*).\n",
    "\n",
    "**Exercise**: Define a function called `gradient_descent_step` that performs an update on theta by applying the formula above."
   ]
  },
  {
   "cell_type": "code",
   "execution_count": 12,
   "metadata": {
    "collapsed": true,
    "deletable": true,
    "editable": true
   },
   "outputs": [],
   "source": [
    "def gradient_descent_step(X, Y, theta, alpha):\n",
    "    theta_updated = [0, 0]\n",
    "    grad = gradient_total(X, Y, theta)\n",
    "    theta_updated[0] = theta[0] - alpha * grad[0]\n",
    "    theta_updated[1] = theta[1] - alpha * grad[1]\n",
    "    return theta_updated"
   ]
  },
  {
   "cell_type": "markdown",
   "metadata": {
    "deletable": true,
    "editable": true
   },
   "source": [
    "Try to run a few iterations manually. Play with the value of $\\alpha$ to see how it impacts the algorithm."
   ]
  },
  {
   "cell_type": "code",
   "execution_count": 13,
   "metadata": {
    "collapsed": false,
    "deletable": true,
    "editable": true
   },
   "outputs": [
    {
     "data": {
      "text/plain": [
       "[-0.0011927999999999973, 0.0938243999999997]"
      ]
     },
     "execution_count": 13,
     "metadata": {},
     "output_type": "execute_result"
    }
   ],
   "source": [
    "alpha = 0.0001\n",
    "theta_1 = gradient_descent_step(X, Y, theta_0, alpha)\n",
    "theta_2 = gradient_descent_step(X, Y, theta_1, alpha)\n",
    "theta_2"
   ]
  },
  {
   "cell_type": "markdown",
   "metadata": {
    "deletable": true,
    "editable": true
   },
   "source": [
    "### Iterating gradient descent steps\n",
    "The `gradient_descent_step` implements a single gradient step of the gradient descent algorithm. Implement a function called `gradient_descent` that starts from a given $\\theta$ (exaple $\\theta = [0, 0]$) and applies 100 gradient descent iterations. Display the total cost function $J(\\theta)$ at each iteration."
   ]
  },
  {
   "cell_type": "code",
   "execution_count": 14,
   "metadata": {
    "collapsed": false,
    "deletable": true,
    "editable": true
   },
   "outputs": [],
   "source": [
    "def gradient_descent(X, Y, alpha):\n",
    "    theta = [0, 0] # initializing theta with zeros (it can be initialized in another manner)\n",
    "    n_iteration_max = 100\n",
    "    loss_history = []\n",
    "    for i_iteration in range(n_iteration_max):\n",
    "        loss = cost_function_total(X, Y, theta)\n",
    "        loss_history.append(loss)\n",
    "        print(\"Iteration {:>2}. Current loss = {}\".format(i_iteration, loss))\n",
    "        theta = gradient_descent_step(X, Y, theta, alpha)\n",
    "    loss = cost_function_total(X, Y, theta)\n",
    "    loss_history.append(loss)\n",
    "    print(\"Optimization complete. Final loss = {}\".format(loss))\n",
    "    return theta, loss_history"
   ]
  },
  {
   "cell_type": "markdown",
   "metadata": {
    "deletable": true,
    "editable": true
   },
   "source": [
    "Play with the code you've just run. Try different values of $\\alpha$ and see the impact it has.\n",
    "\n",
    "Note: $\\alpha = 0.0001$ works well in this case."
   ]
  },
  {
   "cell_type": "code",
   "execution_count": 15,
   "metadata": {
    "collapsed": false,
    "deletable": true,
    "editable": true,
    "scrolled": false
   },
   "outputs": [
    {
     "name": "stdout",
     "output_type": "stream",
     "text": [
      "Iteration  0. Current loss = 5724.0\n",
      "Iteration  1. Current loss = 5037.312744\n",
      "Iteration  2. Current loss = 4435.7926733\n",
      "Iteration  3. Current loss = 3908.87660327\n",
      "Iteration  4. Current loss = 3447.31148851\n",
      "Iteration  5. Current loss = 3042.99192789\n",
      "Iteration  6. Current loss = 2688.81782352\n",
      "Iteration  7. Current loss = 2378.56969424\n",
      "Iteration  8. Current loss = 2106.79945376\n",
      "Iteration  9. Current loss = 1868.73473546\n",
      "Iteration 10. Current loss = 1660.19508368\n",
      "Iteration 11. Current loss = 1477.51853971\n",
      "Iteration 12. Current loss = 1317.49733324\n",
      "Iteration 13. Current loss = 1177.32154991\n",
      "Iteration 14. Current loss = 1054.52978568\n",
      "Iteration 15. Current loss = 946.965921541\n",
      "Iteration 16. Current loss = 852.741259375\n",
      "Iteration 17. Current loss = 770.201354036\n",
      "Iteration 18. Current loss = 697.896959252\n",
      "Iteration 19. Current loss = 634.558577041\n",
      "Iteration 20. Current loss = 579.074163751\n",
      "Iteration 21. Current loss = 530.469601184\n",
      "Iteration 22. Current loss = 487.891589865\n",
      "Iteration 23. Current loss = 450.59266404\n",
      "Iteration 24. Current loss = 417.918065244\n",
      "Iteration 25. Current loss = 389.294243928\n",
      "Iteration 26. Current loss = 364.218787212\n",
      "Iteration 27. Current loss = 342.251595891\n",
      "Iteration 28. Current loss = 323.007155739\n",
      "Iteration 29. Current loss = 306.147767403\n",
      "Iteration 30. Current loss = 291.377615979\n",
      "Iteration 31. Current loss = 278.437576137\n",
      "Iteration 32. Current loss = 267.10066155\n",
      "Iteration 33. Current loss = 257.168038739\n",
      "Iteration 34. Current loss = 248.465535303\n",
      "Iteration 35. Current loss = 240.840581238\n",
      "Iteration 36. Current loss = 234.159529618\n",
      "Iteration 37. Current loss = 228.305309583\n",
      "Iteration 38. Current loss = 223.175370436\n",
      "Iteration 39. Current loss = 218.679880719\n",
      "Iteration 40. Current loss = 214.740150664\n",
      "Iteration 41. Current loss = 211.287250302\n",
      "Iteration 42. Current loss = 208.260798966\n",
      "Iteration 43. Current loss = 205.607904929\n",
      "Iteration 44. Current loss = 203.282236566\n",
      "Iteration 45. Current loss = 201.243208706\n",
      "Iteration 46. Current loss = 199.455269908\n",
      "Iteration 47. Current loss = 197.887278137\n",
      "Iteration 48. Current loss = 196.511953863\n",
      "Iteration 49. Current loss = 195.305401008\n",
      "Iteration 50. Current loss = 194.246687295\n",
      "Iteration 51. Current loss = 193.31747665\n",
      "Iteration 52. Current loss = 192.501707203\n",
      "Iteration 53. Current loss = 191.785309219\n",
      "Iteration 54. Current loss = 191.155958013\n",
      "Iteration 55. Current loss = 190.602857518\n",
      "Iteration 56. Current loss = 190.11655069\n",
      "Iteration 57. Current loss = 189.688753431\n",
      "Iteration 58. Current loss = 189.312209109\n",
      "Iteration 59. Current loss = 188.980561123\n",
      "Iteration 60. Current loss = 188.688241277\n",
      "Iteration 61. Current loss = 188.430371987\n",
      "Iteration 62. Current loss = 188.202680633\n",
      "Iteration 63. Current loss = 188.001424523\n",
      "Iteration 64. Current loss = 187.823325164\n",
      "Iteration 65. Current loss = 187.665510694\n",
      "Iteration 66. Current loss = 187.525465442\n",
      "Iteration 67. Current loss = 187.400985754\n",
      "Iteration 68. Current loss = 187.290141292\n",
      "Iteration 69. Current loss = 187.191241135\n",
      "Iteration 70. Current loss = 187.102804087\n",
      "Iteration 71. Current loss = 187.02353266\n",
      "Iteration 72. Current loss = 186.952290295\n",
      "Iteration 73. Current loss = 186.888081396\n",
      "Iteration 74. Current loss = 186.830033851\n",
      "Iteration 75. Current loss = 186.777383715\n",
      "Iteration 76. Current loss = 186.729461795\n",
      "Iteration 77. Current loss = 186.685681895\n",
      "Iteration 78. Current loss = 186.645530527\n",
      "Iteration 79. Current loss = 186.608557887\n",
      "Iteration 80. Current loss = 186.574369962\n",
      "Iteration 81. Current loss = 186.542621608\n",
      "Iteration 82. Current loss = 186.513010487\n",
      "Iteration 83. Current loss = 186.485271761\n",
      "Iteration 84. Current loss = 186.459173439\n",
      "Iteration 85. Current loss = 186.434512303\n",
      "Iteration 86. Current loss = 186.411110342\n",
      "Iteration 87. Current loss = 186.388811622\n",
      "Iteration 88. Current loss = 186.367479547\n",
      "Iteration 89. Current loss = 186.346994468\n",
      "Iteration 90. Current loss = 186.327251571\n",
      "Iteration 91. Current loss = 186.308159044\n",
      "Iteration 92. Current loss = 186.289636463\n",
      "Iteration 93. Current loss = 186.271613377\n",
      "Iteration 94. Current loss = 186.254028075\n",
      "Iteration 95. Current loss = 186.236826499\n",
      "Iteration 96. Current loss = 186.219961295\n",
      "Iteration 97. Current loss = 186.203390982\n",
      "Iteration 98. Current loss = 186.187079226\n",
      "Iteration 99. Current loss = 186.170994198\n",
      "Optimization complete. Final loss = 186.155108016\n"
     ]
    }
   ],
   "source": [
    "theta_trained_gd, loss_history = gradient_descent(X, Y, alpha)"
   ]
  },
  {
   "cell_type": "markdown",
   "metadata": {},
   "source": [
    "Let's have a more visual interpretation by plotting the loss over iterations."
   ]
  },
  {
   "cell_type": "code",
   "execution_count": 16,
   "metadata": {
    "collapsed": false
   },
   "outputs": [
    {
     "data": {
      "image/png": "[encoded data removed]",
      "text/plain": [
       "<matplotlib.figure.Figure at 0x104c3fd10>"
      ]
     },
     "metadata": {},
     "output_type": "display_data"
    }
   ],
   "source": [
    "import matplotlib.pyplot as plt\n",
    "%matplotlib inline\n",
    "plt.plot(loss_history)\n",
    "plt.ylabel('loss')\n",
    "plt.show()"
   ]
  },
  {
   "cell_type": "code",
   "execution_count": 17,
   "metadata": {
    "collapsed": false,
    "deletable": true,
    "editable": true,
    "scrolled": true
   },
   "outputs": [
    {
     "data": {
      "text/plain": [
       "[-0.11087633725023004, 0.7567940140789401]"
      ]
     },
     "execution_count": 17,
     "metadata": {},
     "output_type": "execute_result"
    }
   ],
   "source": [
    "theta_trained_gd"
   ]
  },
  {
   "cell_type": "markdown",
   "metadata": {},
   "source": [
    "Let us see what the trained regression looks like. "
   ]
  },
  {
   "cell_type": "code",
   "execution_count": 18,
   "metadata": {
    "collapsed": false
   },
   "outputs": [
    {
     "data": {
      "image/png": "[encoded data removed]",
      "text/plain": [
       "<matplotlib.figure.Figure at 0x1057b17d0>"
      ]
     },
     "metadata": {},
     "output_type": "display_data"
    }
   ],
   "source": [
    "houses_sizes = range(150)\n",
    "estimated_prices = [theta_trained_gd[0] + house_size * theta_trained_gd[1] for house_size in houses_sizes]\n",
    "x1s = [x[1] for x in X]\n",
    "plt.plot(houses_sizes, estimated_prices)\n",
    "plt.ylabel(\"price\")\n",
    "plt.xlabel(\"house size\")\n",
    "plt.scatter(x1s, Y, color=\"red\")\n",
    "plt.show()"
   ]
  },
  {
   "cell_type": "markdown",
   "metadata": {
    "deletable": true,
    "editable": true
   },
   "source": [
    "**Question**: Looks at the evolution of the cost function over time. What comment can you make?\n",
    "\n",
    "**Answer**: The loss function constantly drops over time with this initial value of $\\theta$ and this $\\alpha$. It ends up reaching a plateau at around 186. It seems like the algorithm has converged to the optimal value of the cost function.\n",
    "\n",
    "**Question**: What does the value `theta_trained` represent?\n",
    "\n",
    "**Answer**: Recall that the model $\\theta$ has to values, $\\theta_0$ and $\\theta_1$. Hence, with the model `theta_trained` we've learnt, price prediction would be:\n",
    "$$ \\text{price} = \\theta_0 + \\theta_1 \\times \\text{area}.$$\n",
    "\n",
    "## Batch gradient descent vs. stochastic gradient descent\n",
    "As we have seen during the lecture 1, the gradient descent methods are often split into 2 different subfamilies:\n",
    "- **Batch methods** update $\\theta$ after having computed the gradient on the whole training set\n",
    "- **Stochastic methods** update $\\theta$ after having computed the gradient on a single sample\n",
    "The gradient descent we have implemented above (`gradient_descent_step` and `gradient_descent`) corresponds to the batch version because it sums the gradient of all the samples in the training set. \n",
    "\n",
    "**Exercise**: Try to implement the stochastic version of the gradient descent algorithm. You will need to define a function `stochastic_gradient_descent_step` that compute a stochastic gradient step (on a single $(x, y)$ sample) and a function `stochastic_gradient_descent` iterates 100 stochastic gradient descent steps and returns the trained model $\\theta$.\n",
    "\n",
    "** Solution**: We first define the function `stochastic_gradient_descent_step` that implements a stochastic gradient step."
   ]
  },
  {
   "cell_type": "code",
   "execution_count": 19,
   "metadata": {
    "collapsed": true,
    "deletable": true,
    "editable": true
   },
   "outputs": [],
   "source": [
    "def stochastic_gradient_descent_step(x, y, theta, alpha):\n",
    "    theta_updated = [0, 0]\n",
    "    grad = gradient(x, y, theta)\n",
    "    theta_updated[0] = theta[0] - alpha * grad[0]\n",
    "    theta_updated[1] = theta[1] - alpha * grad[1]\n",
    "    return theta_updated"
   ]
  },
  {
   "cell_type": "markdown",
   "metadata": {
    "deletable": true,
    "editable": true
   },
   "source": [
    "Then the `stochastic_gradient_descent` function that will do the iterations."
   ]
  },
  {
   "cell_type": "code",
   "execution_count": 20,
   "metadata": {
    "collapsed": false,
    "deletable": true,
    "editable": true
   },
   "outputs": [],
   "source": [
    "def stochastic_gradient_descent(X, Y, alpha):\n",
    "    theta = [0, 0] # initializing theta with zeros (it can be initialized in another manner)\n",
    "    n_iteration_max = 100\n",
    "    loss_history = []\n",
    "    n_samples = len(Y)\n",
    "    for i_iteration in range(n_iteration_max):\n",
    "        i_sample = i_iteration % n_samples\n",
    "        loss = cost_function_total(X, Y, theta)\n",
    "        loss_history.append(loss)\n",
    "        print(\"Iteration {:>2}. Current loss = {}\".format(i_iteration, loss))\n",
    "        theta = stochastic_gradient_descent_step(X[i_sample], Y[i_sample], theta, alpha) # run the gradient update on a single sample\n",
    "    loss = cost_function_total(X, Y, theta)\n",
    "    loss_history.append(loss)\n",
    "    print(\"Optimization complete. Final loss = {}\".format(loss))\n",
    "    return theta, loss_history"
   ]
  },
  {
   "cell_type": "markdown",
   "metadata": {
    "deletable": true,
    "editable": true
   },
   "source": [
    "Let's now apply the algorithm with the same parameters."
   ]
  },
  {
   "cell_type": "code",
   "execution_count": 21,
   "metadata": {
    "collapsed": false,
    "deletable": true,
    "editable": true,
    "scrolled": false
   },
   "outputs": [
    {
     "name": "stdout",
     "output_type": "stream",
     "text": [
      "Iteration  0. Current loss = 5724.0\n",
      "Iteration  1. Current loss = 3745.329318\n",
      "Iteration  2. Current loss = 1229.58850556\n",
      "Iteration  3. Current loss = 1215.4002507\n",
      "Iteration  4. Current loss = 389.24889887\n",
      "Iteration  5. Current loss = 233.848727077\n",
      "Iteration  6. Current loss = 205.389900038\n",
      "Iteration  7. Current loss = 222.353897307\n",
      "Iteration  8. Current loss = 360.244624812\n",
      "Iteration  9. Current loss = 223.650823333\n",
      "Iteration 10. Current loss = 208.315174237\n",
      "Iteration 11. Current loss = 226.1195284\n",
      "Iteration 12. Current loss = 360.544262454\n",
      "Iteration 13. Current loss = 223.744191112\n",
      "Iteration 14. Current loss = 208.259993315\n",
      "Iteration 15. Current loss = 226.051269403\n",
      "Iteration 16. Current loss = 360.506758085\n",
      "Iteration 17. Current loss = 223.72195803\n",
      "Iteration 18. Current loss = 208.241787391\n",
      "Iteration 19. Current loss = 226.030015382\n",
      "Iteration 20. Current loss = 360.473292026\n",
      "Iteration 21. Current loss = 223.701111748\n",
      "Iteration 22. Current loss = 208.22314266\n",
      "Iteration 23. Current loss = 226.008202949\n",
      "Iteration 24. Current loss = 360.439782616\n",
      "Iteration 25. Current loss = 223.680252259\n",
      "Iteration 26. Current loss = 208.204506343\n",
      "Iteration 27. Current loss = 225.986400695\n",
      "Iteration 28. Current loss = 360.406278661\n",
      "Iteration 29. Current loss = 223.659396303\n",
      "Iteration 30. Current loss = 208.185873091\n",
      "Iteration 31. Current loss = 225.964601821\n",
      "Iteration 32. Current loss = 360.372779578\n",
      "Iteration 33. Current loss = 223.638543679\n",
      "Iteration 34. Current loss = 208.167242968\n",
      "Iteration 35. Current loss = 225.942806408\n",
      "Iteration 36. Current loss = 360.339285373\n",
      "Iteration 37. Current loss = 223.617694391\n",
      "Iteration 38. Current loss = 208.148615972\n",
      "Iteration 39. Current loss = 225.921014454\n",
      "Iteration 40. Current loss = 360.305796044\n",
      "Iteration 41. Current loss = 223.596848436\n",
      "Iteration 42. Current loss = 208.129992103\n",
      "Iteration 43. Current loss = 225.899225958\n",
      "Iteration 44. Current loss = 360.272311592\n",
      "Iteration 45. Current loss = 223.576005815\n",
      "Iteration 46. Current loss = 208.111371359\n",
      "Iteration 47. Current loss = 225.87744092\n",
      "Iteration 48. Current loss = 360.238832014\n",
      "Iteration 49. Current loss = 223.555166527\n",
      "Iteration 50. Current loss = 208.092753742\n",
      "Iteration 51. Current loss = 225.85565934\n",
      "Iteration 52. Current loss = 360.205357312\n",
      "Iteration 53. Current loss = 223.534330572\n",
      "Iteration 54. Current loss = 208.07413925\n",
      "Iteration 55. Current loss = 225.833881217\n",
      "Iteration 56. Current loss = 360.171887483\n",
      "Iteration 57. Current loss = 223.513497948\n",
      "Iteration 58. Current loss = 208.055527883\n",
      "Iteration 59. Current loss = 225.81210655\n",
      "Iteration 60. Current loss = 360.138422527\n",
      "Iteration 61. Current loss = 223.492668656\n",
      "Iteration 62. Current loss = 208.036919639\n",
      "Iteration 63. Current loss = 225.790335338\n",
      "Iteration 64. Current loss = 360.104962444\n",
      "Iteration 65. Current loss = 223.471842695\n",
      "Iteration 66. Current loss = 208.01831452\n",
      "Iteration 67. Current loss = 225.768567583\n",
      "Iteration 68. Current loss = 360.071507233\n",
      "Iteration 69. Current loss = 223.451020064\n",
      "Iteration 70. Current loss = 207.999712524\n",
      "Iteration 71. Current loss = 225.746803281\n",
      "Iteration 72. Current loss = 360.038056892\n",
      "Iteration 73. Current loss = 223.430200763\n",
      "Iteration 74. Current loss = 207.98111365\n",
      "Iteration 75. Current loss = 225.725042434\n",
      "Iteration 76. Current loss = 360.004611422\n",
      "Iteration 77. Current loss = 223.409384791\n",
      "Iteration 78. Current loss = 207.962517899\n",
      "Iteration 79. Current loss = 225.703285041\n",
      "Iteration 80. Current loss = 359.971170821\n",
      "Iteration 81. Current loss = 223.388572148\n",
      "Iteration 82. Current loss = 207.943925269\n",
      "Iteration 83. Current loss = 225.681531101\n",
      "Iteration 84. Current loss = 359.937735088\n",
      "Iteration 85. Current loss = 223.367762834\n",
      "Iteration 86. Current loss = 207.925335761\n",
      "Iteration 87. Current loss = 225.659780613\n",
      "Iteration 88. Current loss = 359.904304224\n",
      "Iteration 89. Current loss = 223.346956847\n",
      "Iteration 90. Current loss = 207.906749373\n",
      "Iteration 91. Current loss = 225.638033577\n",
      "Iteration 92. Current loss = 359.870878227\n",
      "Iteration 93. Current loss = 223.326154187\n",
      "Iteration 94. Current loss = 207.888166106\n",
      "Iteration 95. Current loss = 225.616289993\n",
      "Iteration 96. Current loss = 359.837457097\n",
      "Iteration 97. Current loss = 223.305354854\n",
      "Iteration 98. Current loss = 207.869585958\n",
      "Iteration 99. Current loss = 225.594549859\n",
      "Optimization complete. Final loss = 359.804040832\n"
     ]
    }
   ],
   "source": [
    "theta_trained_sgd, loss_history_sgd = stochastic_gradient_descent(X, Y, alpha)"
   ]
  },
  {
   "cell_type": "markdown",
   "metadata": {},
   "source": [
    "Here again, let's plot the loss history over iterations."
   ]
  },
  {
   "cell_type": "code",
   "execution_count": 22,
   "metadata": {
    "collapsed": false
   },
   "outputs": [
    {
     "data": {
      "image/png": "[encoded data removed]",
      "text/plain": [
       "<matplotlib.figure.Figure at 0x1057be8d0>"
      ]
     },
     "metadata": {},
     "output_type": "display_data"
    }
   ],
   "source": [
    "plt.plot(loss_history_sgd)\n",
    "plt.ylabel('loss')\n",
    "plt.show()"
   ]
  },
  {
   "cell_type": "markdown",
   "metadata": {},
   "source": [
    "Again, let's look at the regression we obtain."
   ]
  },
  {
   "cell_type": "code",
   "execution_count": 23,
   "metadata": {
    "collapsed": false
   },
   "outputs": [
    {
     "data": {
      "image/png": "[encoded data removed]",
      "text/plain": [
       "<matplotlib.figure.Figure at 0x1058a1210>"
      ]
     },
     "metadata": {},
     "output_type": "display_data"
    }
   ],
   "source": [
    "houses_sizes = range(150)\n",
    "estimated_prices = [theta_trained_sgd[0] + house_size * theta_trained_sgd[1] for house_size in houses_sizes]\n",
    "x1s = [x[1] for x in X]\n",
    "plt.plot(houses_sizes, estimated_prices)\n",
    "plt.ylabel(\"price\")\n",
    "plt.xlabel(\"house size\")\n",
    "plt.scatter(x1s, Y, color=\"red\")\n",
    "plt.show()"
   ]
  },
  {
   "cell_type": "markdown",
   "metadata": {
    "deletable": true,
    "editable": true
   },
   "source": [
    "**Question**: Compare the results obtained when solving the OLS problem with stochastic gradient descent and batch gradient descent. Are the results the same? Why?\n",
    "\n",
    "**Hint**: Plot the loss function.\n",
    "\n",
    "**Answer**: The results are **not the same**, the loss function value differs **a lot**: More than 200 for the stochastic gradient descent, and about 186 for the batch gradient descent version. \n",
    "\n",
    "To understand what happens, let's look at what the function looks like. It is a function of 2 variables ($\\theta_0$ and $\\theta_1$), so we can use either a *3D plot* or a *contour plot* for visualize it.\n",
    "\n",
    "The following code shows the *contour plot*. First, we need to define a grid of $\\theta$ values on which we will evaluate the loss function. `theta0_vector` and `theta1_vector` define the values of $\\theta_0$ and $\\theta_1$ on which the function will be evaluated."
   ]
  },
  {
   "cell_type": "code",
   "execution_count": 24,
   "metadata": {
    "collapsed": false,
    "deletable": true,
    "editable": true
   },
   "outputs": [],
   "source": [
    "import numpy as np\n",
    "dtheta = 0.001\n",
    "theta0_vector = np.arange(-1,+1, dtheta)\n",
    "theta1_vector = np.arange(-1,+1, dtheta)"
   ]
  },
  {
   "cell_type": "markdown",
   "metadata": {},
   "source": [
    "Let's compute the value of the loss function for each pair $(\\theta_0, \\theta_1)$."
   ]
  },
  {
   "cell_type": "code",
   "execution_count": 25,
   "metadata": {
    "collapsed": true,
    "deletable": true,
    "editable": true
   },
   "outputs": [],
   "source": [
    "n0 = len(theta0_vector)\n",
    "n1 = len(theta1_vector)\n",
    "loss = np.zeros([n0, n1])\n",
    "for i0 in range(n0):\n",
    "    for i1 in range(n1):\n",
    "        loss[i0, i1] = cost_function_total(X, Y, [theta0_vector[i0], theta1_vector[i1]])"
   ]
  },
  {
   "cell_type": "code",
   "execution_count": 26,
   "metadata": {
    "collapsed": false,
    "deletable": true,
    "editable": true,
    "scrolled": true
   },
   "outputs": [
    {
     "data": {
      "image/png": "[encoded data removed]",
      "text/plain": [
       "<matplotlib.figure.Figure at 0x105d14a50>"
      ]
     },
     "metadata": {},
     "output_type": "display_data"
    }
   ],
   "source": [
    "fig = plt.figure()\n",
    "plt.contourf(theta0_vector, theta1_vector, loss)\n",
    "plt.colorbar()\n",
    "plt.show()"
   ]
  },
  {
   "cell_type": "markdown",
   "metadata": {
    "deletable": true,
    "editable": true
   },
   "source": [
    "We can look at what the function from \"further away\":"
   ]
  },
  {
   "cell_type": "code",
   "execution_count": 27,
   "metadata": {
    "collapsed": false,
    "deletable": true,
    "editable": true
   },
   "outputs": [
    {
     "data": {
      "image/png": "[encoded data removed]",
      "text/plain": [
       "<matplotlib.figure.Figure at 0x105870a50>"
      ]
     },
     "metadata": {},
     "output_type": "display_data"
    }
   ],
   "source": [
    "dtheta = 1.\n",
    "# from -100 to +100 on both axis\n",
    "theta0_vector = np.arange(-100,100, dtheta)\n",
    "theta1_vector = np.arange(-100,100, dtheta)\n",
    "n0 = len(theta0_vector)\n",
    "n1 = len(theta1_vector)\n",
    "loss = np.zeros([n0, n1])\n",
    "for i0 in range(n0):\n",
    "    for i1 in range(n1):\n",
    "        loss[i0, i1] = cost_function_total(X, Y, [theta0_vector[i0], theta1_vector[i1]])\n",
    "fig = plt.figure()\n",
    "plt.contourf(theta0_vector, theta1_vector, loss)\n",
    "plt.colorbar()\n",
    "plt.show()"
   ]
  },
  {
   "cell_type": "markdown",
   "metadata": {
    "deletable": true,
    "editable": true
   },
   "source": [
    "It appears that the function behaves very differently on the two different axis:\n",
    "- It varies very fast on the horizontal axis\n",
    "- It varies very slowly on the vertical axis\n",
    "\n",
    "**Question**: What could this be due to? How could we solve this issue?\n",
    "\n",
    "**Answer**: This is due to the fact that the two features (the size and the intercept) are on very different scales: the intercept is constantly equal to 1, while the size of the house varies on a much wider range (up to 102). In our algorithm, we make no difference between $\\theta_0$ and $\\theta_1$: the same step-size is \n",
    "A way to address this issue is to normalize (or rescale) the features. There are several ways to do it:\n",
    "1. The first way consists in, for each feature, dividing all the feature values by its maximal value. In the case of the house size, it would consist in dividing all the house sizes by 102, so that the biggest house would have a size of 1.\n",
    "2. Another way consists in computing the $z$-score of the feature:\n",
    "$$ z = \\dfrac{x - x_{\\min}}{x_{\\max} - x_{\\min}} $$\n",
    "so that the feature respectively has 0 and 1 as minimum and maximum value. Note that this does not apply to the intercept $x_0$, because it is constantly equal to $1$."
   ]
  },
  {
   "cell_type": "markdown",
   "metadata": {
    "deletable": true,
    "editable": true
   },
   "source": [
    "**Homeworks**: \n",
    "1. Implement the feature normalization of your choice. Run the OLS algorithm on it, and compare the result with the non-normalized regression. \n",
    "2. The gradient descent we have implemented seems to lower the loss smoothly. The impelmentation we proposed did 100 iterations, and we can see that the loss function values is not changing much after 40-50 iterations. Could you think of a way to stop the algorithm to avoid having too many iterations giving a very marginal gain in the loss function?\n",
    "3. Add an *outlier* to the training set (for example, a house with a normal size but a very small or very big price), and run the OLS algorithm on it. What impact does the outlier have on the quality of the regression? How to correct this issue?\n",
    "\n",
    "In the next session, we will talk about regularization and how to define a more complex model when the data is not linearly separable."
   ]
  },
  {
   "cell_type": "markdown",
   "metadata": {},
   "source": [
    "Let's apply the following transformation:\n",
    "$$ z = \\dfrac{x - x_{\\min}}{x_{\\max} - x_{\\min}} $$\n",
    "To do so, we need to compute the min and max values of $X$. Let's also define a function that computes $z$ given $x$"
   ]
  },
  {
   "cell_type": "code",
   "execution_count": 28,
   "metadata": {
    "collapsed": false
   },
   "outputs": [],
   "source": [
    "x_min = X[0][1]\n",
    "x_max = X[0][1]\n",
    "for i in range(len(X)):\n",
    "    x_min = min(x_min, X[i][1])\n",
    "    x_max = max(x_max, X[i][1])\n",
    "    \n",
    "def rescale(x):\n",
    "    return (x - x_min)/(x_max - x_min)"
   ]
  },
  {
   "cell_type": "markdown",
   "metadata": {},
   "source": [
    "Let's now apply this transformation to all the element of $X$.\n",
    "\n",
    "**Remark**: We keep the intercept as it is, without applying the transformation to it."
   ]
  },
  {
   "cell_type": "code",
   "execution_count": 29,
   "metadata": {
    "collapsed": false
   },
   "outputs": [
    {
     "name": "stdout",
     "output_type": "stream",
     "text": [
      "[[1.0, 0.3157894736842105], [1.0, 0.6578947368421053], [1.0, 0.0], [1.0, 1.0]]\n"
     ]
    }
   ],
   "source": [
    "Z = [[x[0], rescale(x[1])] for x in X]\n",
    "print Z"
   ]
  },
  {
   "cell_type": "markdown",
   "metadata": {},
   "source": [
    "The intercept remains unchanged, and the second value of each instance (which corresponds to the area of the house) is between 0 and 1."
   ]
  },
  {
   "cell_type": "code",
   "execution_count": 30,
   "metadata": {
    "collapsed": false
   },
   "outputs": [
    {
     "data": {
      "image/png": "[encoded data removed]",
      "text/plain": [
       "<matplotlib.figure.Figure at 0x107d32890>"
      ]
     },
     "metadata": {},
     "output_type": "display_data"
    }
   ],
   "source": [
    "dtheta = 1.\n",
    "# from -100 to +100 on both axis\n",
    "theta0_vector = np.arange(-100,100, dtheta)\n",
    "theta1_vector = np.arange(-100,100, dtheta)\n",
    "n0 = len(theta0_vector)\n",
    "n1 = len(theta1_vector)\n",
    "loss = np.zeros([n0, n1])\n",
    "for i0 in range(n0):\n",
    "    for i1 in range(n1):\n",
    "        loss[i0, i1] = cost_function_total(Z, Y, [theta0_vector[i0], theta1_vector[i1]])\n",
    "fig = plt.figure()\n",
    "plt.contourf(theta0_vector, theta1_vector, loss)\n",
    "plt.colorbar()\n",
    "plt.show()"
   ]
  },
  {
   "cell_type": "markdown",
   "metadata": {},
   "source": [
    "We can now apply the gradient algorithm we've defined previously."
   ]
  },
  {
   "cell_type": "code",
   "execution_count": 31,
   "metadata": {
    "collapsed": false,
    "scrolled": false
   },
   "outputs": [
    {
     "name": "stdout",
     "output_type": "stream",
     "text": [
      "Optimization complete. Final loss = 5252.21972017\n"
     ]
    },
    {
     "data": {
      "image/png": "[encoded data removed]",
      "text/plain": [
       "<matplotlib.figure.Figure at 0x10ff9cdd0>"
      ]
     },
     "metadata": {},
     "output_type": "display_data"
    }
   ],
   "source": [
    "def gradient_descent(X, Y, alpha):\n",
    "    theta = [0, 0] # initializing theta with zeros (it can be initialized in another manner)\n",
    "    n_iteration_max = 100\n",
    "    loss_history = []\n",
    "    theta_history = [theta]\n",
    "    for i_iteration in range(n_iteration_max):\n",
    "        loss = cost_function_total(X, Y, theta)\n",
    "        loss_history.append(loss)\n",
    "        # print(\"Iteration {:>2}. Current loss = {}\".format(i_iteration, loss))\n",
    "        theta = gradient_descent_step(X, Y, theta, alpha)\n",
    "        theta_history.append(theta)\n",
    "    loss = cost_function_total(X, Y, theta)\n",
    "    loss_history.append(loss)\n",
    "    print(\"Optimization complete. Final loss = {}\".format(loss))\n",
    "    plt.plot(loss_history)\n",
    "    plt.ylabel('loss')\n",
    "    plt.xlabel('iterations')\n",
    "    plt.show()\n",
    "    return theta_history, loss_history\n",
    "\n",
    "alpha = 0.0001\n",
    "theta_history_gd, loss_history_gd = gradient_descent(Z, Y, alpha)"
   ]
  },
  {
   "cell_type": "markdown",
   "metadata": {},
   "source": [
    "The loss is constantly going down, and does not seem to have reached its minimal value. This is because we chose $\\alpha = 0.0001$, which isn't appropriate in this case. $\\alpha$ is way too small, hence we are doing tiny steps and it would take a long time for the algorithm to converge. "
   ]
  },
  {
   "cell_type": "markdown",
   "metadata": {},
   "source": [
    "**Note**: As previously, the chosen value for $\\alpha$ is still important, if we take $\\alpha = 1$, the algorithm would diverge:"
   ]
  },
  {
   "cell_type": "code",
   "execution_count": 32,
   "metadata": {
    "collapsed": false,
    "scrolled": false
   },
   "outputs": [
    {
     "name": "stdout",
     "output_type": "stream",
     "text": [
      "Optimization complete. Final loss = 1.27791089223e+126\n"
     ]
    },
    {
     "data": {
      "image/png": "[encoded data removed]",
      "text/plain": [
       "<matplotlib.figure.Figure at 0x10ffaebd0>"
      ]
     },
     "metadata": {},
     "output_type": "display_data"
    }
   ],
   "source": [
    "alpha = 1.\n",
    "theta_history_gd, loss_history_gd = gradient_descent(Z, Y, alpha)"
   ]
  },
  {
   "cell_type": "markdown",
   "metadata": {},
   "source": [
    "Instead, let us try with a higher value, say $\\alpha = 0.1$. "
   ]
  },
  {
   "cell_type": "code",
   "execution_count": 33,
   "metadata": {
    "collapsed": false
   },
   "outputs": [
    {
     "name": "stdout",
     "output_type": "stream",
     "text": [
      "Optimization complete. Final loss = 77.5635217298\n"
     ]
    },
    {
     "data": {
      "image/png": "[encoded data removed]",
      "text/plain": [
       "<matplotlib.figure.Figure at 0x1057db090>"
      ]
     },
     "metadata": {},
     "output_type": "display_data"
    }
   ],
   "source": [
    "alpha = 0.1\n",
    "theta_history_gd, loss_history = gradient_descent(Z, Y, alpha)"
   ]
  },
  {
   "cell_type": "markdown",
   "metadata": {},
   "source": [
    "$\\alpha = 0.1$ seems to work much better, the loss function is decreasing fast at the beginning and seems to reach a loss function value of about 77. \n",
    "\n",
    "**Note**: This loss function value is different than the one we used to have without rescaling the $x$ value (77 vs. 186). This is completely normal, because rescaling $X$ into $Z$ changes the loss function value, which becomes\n",
    "$$J(\\theta) = \\dfrac{1}{2} \\sum_{i = 1}^{n} \\left( h\\left(z^{(i)}\\right) - y^{(i)} \\right)^2$$\n",
    "instead of:\n",
    "$$J(\\theta) = \\dfrac{1}{2} \\sum_{i = 1}^{n} \\left( h\\left(x^{(i)}\\right) - y^{(i)} \\right)^2$$\n",
    "($x^{(i)}$ is replaced by $z^{(i)}$ in the formula). As a consequence, having 77 rather than 186 doesn't mean we're doing a better job than before!"
   ]
  },
  {
   "cell_type": "code",
   "execution_count": 34,
   "metadata": {
    "collapsed": false
   },
   "outputs": [
    {
     "data": {
      "image/png": "[encoded data removed]",
      "text/plain": [
       "<matplotlib.figure.Figure at 0x1057db2d0>"
      ]
     },
     "metadata": {},
     "output_type": "display_data"
    }
   ],
   "source": [
    "dtheta = 1.\n",
    "# from -100 to +100 on both axis\n",
    "theta0_vector = np.arange(0,100, dtheta)\n",
    "theta1_vector = np.arange(0,100, dtheta)\n",
    "n0 = len(theta0_vector)\n",
    "n1 = len(theta1_vector)\n",
    "loss = np.zeros([n0, n1])\n",
    "for i0 in range(n0):\n",
    "    for i1 in range(n1):\n",
    "        loss[i0, i1] = cost_function_total(Z, Y, [theta0_vector[i0], theta1_vector[i1]])\n",
    "fig = plt.figure()\n",
    "plt.contourf(theta0_vector, theta1_vector, loss)\n",
    "plt.colorbar()\n",
    "for theta in theta_history_gd:\n",
    "    plt.scatter(theta[1], theta[0], color=\"red\")\n",
    "plt.show()"
   ]
  },
  {
   "cell_type": "code",
   "execution_count": 35,
   "metadata": {
    "collapsed": true
   },
   "outputs": [],
   "source": [
    "def stochastic_gradient_descent(X, Y, alpha):\n",
    "    theta = [0, 0] # initializing theta with zeros (it can be initialized in another manner)\n",
    "    n_iteration_max = 100\n",
    "    loss_history = []\n",
    "    n_samples = len(Y)\n",
    "    theta_history = [theta]\n",
    "    for i_iteration in range(n_iteration_max):\n",
    "        i_sample = i_iteration % n_samples\n",
    "        loss = cost_function_total(X, Y, theta)\n",
    "        loss_history.append(loss)\n",
    "        print(\"Iteration {:>2}. Current loss = {}\".format(i_iteration, loss))\n",
    "        theta = stochastic_gradient_descent_step(X[i_sample], Y[i_sample], theta, alpha) # run the gradient update on a single sample\n",
    "        theta_history.append(theta)\n",
    "    loss = cost_function_total(X, Y, theta)\n",
    "    loss_history.append(loss)\n",
    "    print(\"Optimization complete. Final loss = {}\".format(loss))\n",
    "    return theta_history, loss_history"
   ]
  },
  {
   "cell_type": "code",
   "execution_count": 36,
   "metadata": {
    "collapsed": false
   },
   "outputs": [
    {
     "name": "stdout",
     "output_type": "stream",
     "text": [
      "Iteration  0. Current loss = 5724.0\n",
      "Iteration  1. Current loss = 3010.65324468\n",
      "Iteration  2. Current loss = 1241.90250205\n",
      "Iteration  3. Current loss = 1685.27981891\n",
      "Iteration  4. Current loss = 1531.97669995\n",
      "Iteration  5. Current loss = 561.619526701\n",
      "Iteration  6. Current loss = 561.695087339\n",
      "Iteration  7. Current loss = 695.318232157\n",
      "Iteration  8. Current loss = 931.834604454\n",
      "Iteration  9. Current loss = 330.295243654\n",
      "Iteration 10. Current loss = 345.298169418\n",
      "Iteration 11. Current loss = 417.822472438\n",
      "Iteration 12. Current loss = 602.618088081\n",
      "Iteration 13. Current loss = 211.266945186\n",
      "Iteration 14. Current loss = 238.350617633\n",
      "Iteration 15. Current loss = 269.800372709\n",
      "Iteration 16. Current loss = 418.37493939\n",
      "Iteration 17. Current loss = 149.911533423\n",
      "Iteration 18. Current loss = 186.356996994\n",
      "Iteration 19. Current loss = 189.769183782\n",
      "Iteration 20. Current loss = 312.8279513\n",
      "Iteration 21. Current loss = 118.206916701\n",
      "Iteration 22. Current loss = 161.719099727\n",
      "Iteration 23. Current loss = 145.761240615\n",
      "Iteration 24. Current loss = 250.767234452\n",
      "Iteration 25. Current loss = 101.768639999\n",
      "Iteration 26. Current loss = 150.526155054\n",
      "Iteration 27. Current loss = 121.061951248\n",
      "Iteration 28. Current loss = 213.254642289\n",
      "Iteration 29. Current loss = 93.2064392861\n",
      "Iteration 30. Current loss = 145.814144689\n",
      "Iteration 31. Current loss = 106.866257877\n",
      "Iteration 32. Current loss = 189.94336294\n",
      "Iteration 33. Current loss = 88.7188988421\n",
      "Iteration 34. Current loss = 144.131393761\n",
      "Iteration 35. Current loss = 98.4897092423\n",
      "Iteration 36. Current loss = 175.070945782\n",
      "Iteration 37. Current loss = 86.3474018155\n",
      "Iteration 38. Current loss = 143.792476589\n",
      "Iteration 39. Current loss = 93.4080494566\n",
      "Iteration 40. Current loss = 165.354642603\n",
      "Iteration 41. Current loss = 85.0804951126\n",
      "Iteration 42. Current loss = 143.993181647\n",
      "Iteration 43. Current loss = 90.2389838179\n",
      "Iteration 44. Current loss = 158.875983858\n",
      "Iteration 45. Current loss = 84.3942101966\n",
      "Iteration 46. Current loss = 144.363864508\n",
      "Iteration 47. Current loss = 88.2105416041\n",
      "Iteration 48. Current loss = 154.482681301\n",
      "Iteration 49. Current loss = 84.015947151\n",
      "Iteration 50. Current loss = 144.745448185\n",
      "Iteration 51. Current loss = 86.88154567\n",
      "Iteration 52. Current loss = 151.463119332\n",
      "Iteration 53. Current loss = 83.8030582705\n",
      "Iteration 54. Current loss = 145.078106901\n",
      "Iteration 55. Current loss = 85.9932660301\n",
      "Iteration 56. Current loss = 149.365915131\n",
      "Iteration 57. Current loss = 83.6803168242\n",
      "Iteration 58. Current loss = 145.346695187\n",
      "Iteration 59. Current loss = 85.3897362969\n",
      "Iteration 60. Current loss = 147.89768247\n",
      "Iteration 61. Current loss = 83.6076440825\n",
      "Iteration 62. Current loss = 145.554546841\n",
      "Iteration 63. Current loss = 84.9742914732\n",
      "Iteration 64. Current loss = 146.863642101\n",
      "Iteration 65. Current loss = 83.5634041914\n",
      "Iteration 66. Current loss = 145.71130738\n",
      "Iteration 67. Current loss = 84.6854113329\n",
      "Iteration 68. Current loss = 146.132175304\n",
      "Iteration 69. Current loss = 83.5357226578\n",
      "Iteration 70. Current loss = 145.827598334\n",
      "Iteration 71. Current loss = 84.4829910128\n",
      "Iteration 72. Current loss = 145.613070456\n",
      "Iteration 73. Current loss = 83.5179501253\n",
      "Iteration 74. Current loss = 145.912925947\n",
      "Iteration 75. Current loss = 84.3403380798\n",
      "Iteration 76. Current loss = 145.243806064\n",
      "Iteration 77. Current loss = 83.5062748361\n",
      "Iteration 78. Current loss = 145.975069222\n",
      "Iteration 79. Current loss = 84.2393787015\n",
      "Iteration 80. Current loss = 144.980682161\n",
      "Iteration 81. Current loss = 83.498453875\n",
      "Iteration 82. Current loss = 146.020095146\n",
      "Iteration 83. Current loss = 84.1677050437\n",
      "Iteration 84. Current loss = 144.792958964\n",
      "Iteration 85. Current loss = 83.4931304929\n",
      "Iteration 86. Current loss = 146.0526017\n",
      "Iteration 87. Current loss = 84.1167071113\n",
      "Iteration 88. Current loss = 144.658910828\n",
      "Iteration 89. Current loss = 83.4894609534\n",
      "Iteration 90. Current loss = 146.076010684\n",
      "Iteration 91. Current loss = 84.0803612094\n",
      "Iteration 92. Current loss = 144.56312956\n",
      "Iteration 93. Current loss = 83.4869065945\n",
      "Iteration 94. Current loss = 146.092838169\n",
      "Iteration 95. Current loss = 84.0544271338\n",
      "Iteration 96. Current loss = 144.494659728\n",
      "Iteration 97. Current loss = 83.4851152933\n",
      "Iteration 98. Current loss = 146.104919264\n",
      "Iteration 99. Current loss = 84.0359065312\n",
      "Optimization complete. Final loss = 144.445697563\n"
     ]
    },
    {
     "data": {
      "image/png": "[encoded data removed]",
      "text/plain": [
       "<matplotlib.figure.Figure at 0x10ff6a590>"
      ]
     },
     "metadata": {},
     "output_type": "display_data"
    }
   ],
   "source": [
    "alpha = .5\n",
    "theta_history_sgd, loss_history_sgd = stochastic_gradient_descent(Z, Y, alpha)\n",
    "plt.plot(loss_history_sgd)\n",
    "plt.ylabel('loss')\n",
    "plt.show()"
   ]
  },
  {
   "cell_type": "markdown",
   "metadata": {},
   "source": [
    "As it was the case previously, stochastic gradient descend seems to osciliate around the optimal position. Let us see how the weight vector $\\theta$ evolves."
   ]
  },
  {
   "cell_type": "code",
   "execution_count": 37,
   "metadata": {
    "collapsed": false
   },
   "outputs": [
    {
     "data": {
      "image/png": "[encoded data removed]",
      "text/plain": [
       "<matplotlib.figure.Figure at 0x10ff48a50>"
      ]
     },
     "metadata": {},
     "output_type": "display_data"
    }
   ],
   "source": [
    "dtheta = 1.\n",
    "# from -100 to +100 on both axis\n",
    "theta0_vector = np.arange(0,100, dtheta)\n",
    "theta1_vector = np.arange(0,100, dtheta)\n",
    "n0 = len(theta0_vector)\n",
    "n1 = len(theta1_vector)\n",
    "loss = np.zeros([n0, n1])\n",
    "for i0 in range(n0):\n",
    "    for i1 in range(n1):\n",
    "        loss[i0, i1] = cost_function_total(Z, Y, [theta0_vector[i0], theta1_vector[i1]])\n",
    "fig = plt.figure()\n",
    "plt.contourf(theta0_vector, theta1_vector, loss)\n",
    "plt.colorbar()\n",
    "for theta in theta_history_sgd:\n",
    "    plt.scatter(theta[1], theta[0], color=\"red\")\n",
    "plt.show()"
   ]
  },
  {
   "cell_type": "code",
   "execution_count": 38,
   "metadata": {
    "collapsed": false
   },
   "outputs": [
    {
     "name": "stdout",
     "output_type": "stream",
     "text": [
      "Optimization complete. Final loss = 89.968619039\n"
     ]
    },
    {
     "data": {
      "image/png": "[encoded data removed]",
      "text/plain": [
       "<matplotlib.figure.Figure at 0x11094c350>"
      ]
     },
     "metadata": {},
     "output_type": "display_data"
    },
    {
     "data": {
      "image/png": "[encoded data removed]",
      "text/plain": [
       "<matplotlib.figure.Figure at 0x1058c1f10>"
      ]
     },
     "metadata": {},
     "output_type": "display_data"
    }
   ],
   "source": [
    "from math import sqrt\n",
    "def stochastic_gradient_descent(X, Y, alpha):\n",
    "    theta = [0, 0] # initializing theta with zeros (it can be initialized in another manner)\n",
    "    n_iteration_max = 100\n",
    "    loss_history = []\n",
    "    n_samples = len(Y)\n",
    "    theta_history = [theta]\n",
    "    for i_iteration in range(n_iteration_max):\n",
    "        i_sample = i_iteration % n_samples\n",
    "        loss = cost_function_total(X, Y, theta)\n",
    "        loss_history.append(loss)\n",
    "        # change the learning rate\n",
    "        alpha_sgd = alpha / sqrt(i_iteration + 1)\n",
    "        theta = stochastic_gradient_descent_step(X[i_sample], Y[i_sample], theta, alpha_sgd) # run the gradient update on a single sample\n",
    "        theta_history.append(theta)\n",
    "    loss = cost_function_total(X, Y, theta)\n",
    "    loss_history.append(loss)\n",
    "    print(\"Optimization complete. Final loss = {}\".format(loss))\n",
    "    return theta_history, loss_history\n",
    "\n",
    "alpha = 1.\n",
    "theta_history_sgd, loss_history_sgd = stochastic_gradient_descent(Z, Y, alpha)\n",
    "plt.plot(loss_history_sgd)\n",
    "plt.ylabel('loss')\n",
    "plt.show()\n",
    "\n",
    "dtheta = 1.\n",
    "# from -100 to +100 on both axis\n",
    "theta0_vector = np.arange(0,100, dtheta)\n",
    "theta1_vector = np.arange(0,100, dtheta)\n",
    "n0 = len(theta0_vector)\n",
    "n1 = len(theta1_vector)\n",
    "loss = np.zeros([n0, n1])\n",
    "for i0 in range(n0):\n",
    "    for i1 in range(n1):\n",
    "        loss[i0, i1] = cost_function_total(Z, Y, [theta0_vector[i0], theta1_vector[i1]])\n",
    "fig = plt.figure()\n",
    "plt.contourf(theta0_vector, theta1_vector, loss)\n",
    "plt.colorbar()\n",
    "for theta in theta_history_sgd:\n",
    "    plt.scatter(theta[1], theta[0], color=\"red\")\n",
    "plt.show()"
   ]
  }
 ],
 "metadata": {
  "kernelspec": {
   "display_name": "Python 2",
   "language": "python",
   "name": "python2"
  },
  "language_info": {
   "codemirror_mode": {
    "name": "ipython",
    "version": 2
   },
   "file_extension": ".py",
   "mimetype": "text/x-python",
   "name": "python",
   "nbconvert_exporter": "python",
   "pygments_lexer": "ipython2",
   "version": "2.7.12"
  }
 },
 "nbformat": 4,
 "nbformat_minor": 0
}
