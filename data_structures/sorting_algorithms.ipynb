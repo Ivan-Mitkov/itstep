{
 "cells": [
  {
   "cell_type": "markdown",
   "metadata": {},
   "source": [
    "# Sorting algorithms\n",
    "Before we start, let's define an unsorted array to test the algorithms."
   ]
  },
  {
   "cell_type": "code",
   "execution_count": 1,
   "metadata": {
    "collapsed": true
   },
   "outputs": [],
   "source": [
    "unsorted_array = [3,6,8,10,1,2,1]"
   ]
  },
  {
   "cell_type": "markdown",
   "metadata": {},
   "source": [
    "## Quick sort\n",
    "Description [here](https://en.wikipedia.org/wiki/Quicksort)."
   ]
  },
  {
   "cell_type": "code",
   "execution_count": 2,
   "metadata": {
    "collapsed": false
   },
   "outputs": [],
   "source": [
    "# See https://en.wikipedia.org/wiki/Quicksort for explanations\n",
    "def quicksort(arr):\n",
    "    if len(arr) <= 1:\n",
    "        return arr\n",
    "    pivot = arr[len(arr) // 2]\n",
    "    left = [x for x in arr if x < pivot]\n",
    "    middle = [x for x in arr if x == pivot]\n",
    "    right = [x for x in arr if x > pivot]\n",
    "    return quicksort(left) + middle + quicksort(right)"
   ]
  },
  {
   "cell_type": "code",
   "execution_count": 3,
   "metadata": {
    "collapsed": false
   },
   "outputs": [
    {
     "name": "stdout",
     "output_type": "stream",
     "text": [
      "[1, 1, 2, 3, 6, 8, 10]\n"
     ]
    }
   ],
   "source": [
    "print(quicksort(unsorted_array))"
   ]
  },
  {
   "cell_type": "markdown",
   "metadata": {},
   "source": [
    "## Merge Sort\n",
    "Description [here](https://en.wikipedia.org/wiki/Merge_sort).\n",
    "2 main components:\n",
    "- Recursively split the array in equal parts until we get arrays of size 0 or 1 (which are straightforward to sort)\n",
    "- Merge sorted lists so that the merged list is sorted\n",
    "\n",
    "`merge` function:"
   ]
  },
  {
   "cell_type": "code",
   "execution_count": 4,
   "metadata": {
    "collapsed": true
   },
   "outputs": [],
   "source": [
    "def merge(arr1, arr2):\n",
    "    arr = [] # final result\n",
    "    while len(arr1) > 0 and len(arr2) > 0:\n",
    "        # arr1 and arr2 are sorted, so the minimum value is either arr1[0] or arr2[0]\n",
    "        if arr1[0] >= arr2[0]:\n",
    "            arr += [arr2[0]]\n",
    "            del arr2[0]\n",
    "        else:\n",
    "            arr += [arr1[0]]\n",
    "            del arr1[0]\n",
    "    if len(arr1) > 0:\n",
    "        arr += arr1\n",
    "    elif len(arr2) > 0:\n",
    "        arr += arr2\n",
    "    return arr"
   ]
  },
  {
   "cell_type": "code",
   "execution_count": 5,
   "metadata": {
    "collapsed": false
   },
   "outputs": [
    {
     "data": {
      "text/plain": [
       "[0, 1, 2, 3, 4, 5]"
      ]
     },
     "execution_count": 5,
     "metadata": {},
     "output_type": "execute_result"
    }
   ],
   "source": [
    "merge([0, 2, 4], [1, 3, 5])"
   ]
  },
  {
   "cell_type": "code",
   "execution_count": 6,
   "metadata": {
    "collapsed": true
   },
   "outputs": [],
   "source": [
    "def merge_sort(arr):\n",
    "    if len(arr) <= 1: # basic case\n",
    "        return arr\n",
    "    else:\n",
    "        left = arr[:len(arr)//2] # first half of the array\n",
    "        right = arr[len(arr)//2:] # second half\n",
    "        return merge(merge_sort(left), merge_sort(right))"
   ]
  },
  {
   "cell_type": "code",
   "execution_count": 7,
   "metadata": {
    "collapsed": false
   },
   "outputs": [
    {
     "name": "stdout",
     "output_type": "stream",
     "text": [
      "[1, 1, 2, 3, 6, 8, 10]\n"
     ]
    }
   ],
   "source": [
    "print(merge_sort(unsorted_array))"
   ]
  }
 ],
 "metadata": {
  "kernelspec": {
   "display_name": "Python 3",
   "language": "python",
   "name": "python3"
  },
  "language_info": {
   "codemirror_mode": {
    "name": "ipython",
    "version": 3
   },
   "file_extension": ".py",
   "mimetype": "text/x-python",
   "name": "python",
   "nbconvert_exporter": "python",
   "pygments_lexer": "ipython3",
   "version": "3.6.1"
  }
 },
 "nbformat": 4,
 "nbformat_minor": 2
}
